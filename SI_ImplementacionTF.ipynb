{
  "nbformat": 4,
  "nbformat_minor": 0,
  "metadata": {
    "colab": {
      "provenance": [],
      "authorship_tag": "ABX9TyMmBTATe9UIWejrS9xKj8jB",
      "include_colab_link": true
    },
    "kernelspec": {
      "name": "python3",
      "display_name": "Python 3"
    },
    "language_info": {
      "name": "python"
    }
  },
  "cells": [
    {
      "cell_type": "markdown",
      "metadata": {
        "id": "view-in-github",
        "colab_type": "text"
      },
      "source": [
        "<a href=\"https://colab.research.google.com/github/AxelPolick/G6_TF_SistemasInteligentes/blob/main/SI_ImplementacionTF.ipynb\" target=\"_parent\"><img src=\"https://colab.research.google.com/assets/colab-badge.svg\" alt=\"Open In Colab\"/></a>"
      ]
    },
    {
      "cell_type": "code",
      "execution_count": 2,
      "metadata": {
        "colab": {
          "base_uri": "https://localhost:8080/"
        },
        "id": "wDFjhy5AbXSI",
        "outputId": "494aed75-f121-4d5b-9a3b-385e82847ac1"
      },
      "outputs": [
        {
          "output_type": "stream",
          "name": "stdout",
          "text": [
            "Mounted at /MyDrive/\n"
          ]
        }
      ],
      "source": [
        "# Conectar google colab a Drive\n",
        "from google.colab import drive\n",
        "drive.mount('/MyDrive/')"
      ]
    },
    {
      "cell_type": "code",
      "source": [
        "# Carga de datos\n",
        "import csv\n",
        "import pandas as pd\n",
        "import numpy as np\n",
        "import io\n",
        "from sklearn.pipeline import Pipeline\n",
        "from sklearn import preprocessing\n",
        "from sklearn.base import TransformerMixin\n",
        "from sklearn.preprocessing import RobustScaler, OneHotEncoder\n",
        "from sklearn.compose import ColumnTransformer"
      ],
      "metadata": {
        "id": "_4ucaWAhck-u"
      },
      "execution_count": 3,
      "outputs": []
    },
    {
      "cell_type": "code",
      "source": [
        "# Cargar datos de Hospitalizados\n",
        "df_SEG_COV_pred = pd.read_csv('/MyDrive/MyDrive/TB_SEGUIM_COVID19_preprocesado.csv', encoding = 'utf8', delimiter = ',')"
      ],
      "metadata": {
        "id": "jtOkr21kfyc9"
      },
      "execution_count": 4,
      "outputs": []
    },
    {
      "cell_type": "code",
      "source": [
        "df_SEG_COV_pred.head(100)\n",
        "\n",
        "# Rellenar datos faltantes con 0\n",
        "df_SEG_COV_pred.fillna(0, inplace=True)\n",
        "\n",
        "# Estandarización de los datos\n",
        "scaler = preprocessing.StandardScaler()\n",
        "scaled_features = scaler.fit_transform(features)"
      ],
      "metadata": {
        "id": "SUnxWP_RgcKm"
      },
      "execution_count": 24,
      "outputs": []
    },
    {
      "cell_type": "code",
      "source": [
        "for col in df_SEG_COV_pred.columns:\n",
        "  print(col)"
      ],
      "metadata": {
        "colab": {
          "base_uri": "https://localhost:8080/"
        },
        "id": "97SfpsqdglZq",
        "outputId": "ddf0a859-155d-4a51-9fa6-7724b54fba81"
      },
      "execution_count": 20,
      "outputs": [
        {
          "output_type": "stream",
          "name": "stdout",
          "text": [
            "evolucion_alta_1\n",
            "evolucion_defuncion_1\n",
            "evolucion_desfavorable_1\n",
            "evolucion_estacionario_1\n",
            "evolucion_favorable_1\n",
            "evolucion_referido_1\n",
            "con_oxigeno_1\n",
            "con_ventilacion_1\n",
            "esta_uci_1\n",
            "esta_ucin_1\n",
            "evolucion_alta_2\n",
            "evolucion_defuncion_2\n",
            "evolucion_desfavorable_2\n",
            "evolucion_estacionario_2\n",
            "evolucion_favorable_2\n",
            "evolucion_referido_2\n",
            "con_oxigeno_2\n",
            "con_ventilacion_2\n",
            "esta_uci_2\n",
            "esta_ucin_2\n",
            "evolucion_alta_3\n",
            "evolucion_defuncion_3\n",
            "evolucion_desfavorable_3\n",
            "evolucion_estacionario_3\n",
            "evolucion_favorable_3\n",
            "evolucion_referido_3\n",
            "con_oxigeno_3\n",
            "con_ventilacion_3\n",
            "esta_uci_3\n",
            "esta_ucin_3\n",
            "evolucion_alta_4\n",
            "evolucion_defuncion_4\n",
            "evolucion_desfavorable_4\n",
            "evolucion_estacionario_4\n",
            "evolucion_favorable_4\n",
            "evolucion_referido_4\n",
            "con_oxigeno_4\n",
            "con_ventilacion_4\n",
            "esta_uci_4\n",
            "esta_ucin_4\n",
            "Cluster\n"
          ]
        }
      ]
    },
    {
      "cell_type": "code",
      "source": [
        "from sklearn.cluster import KMeans\n",
        "\n",
        "features = df_SEG_COV_pred[[\n",
        "    'evolucion_alta_1', 'evolucion_defuncion_1', 'evolucion_desfavorable_1', 'evolucion_estacionario_1', 'evolucion_favorable_1', 'evolucion_referido_1',\n",
        "    'con_oxigeno_1', 'con_ventilacion_1', 'esta_uci_1', 'esta_ucin_1',\n",
        "    'evolucion_alta_2', 'evolucion_defuncion_2', 'evolucion_desfavorable_2', 'evolucion_estacionario_2', 'evolucion_favorable_2', 'evolucion_referido_2',\n",
        "    'con_oxigeno_2', 'con_ventilacion_2', 'esta_uci_2', 'esta_ucin_2',\n",
        "    'evolucion_alta_3', 'evolucion_defuncion_3', 'evolucion_desfavorable_3', 'evolucion_estacionario_3', 'evolucion_favorable_3', 'evolucion_referido_3',\n",
        "    'con_oxigeno_3', 'con_ventilacion_3', 'esta_uci_3', 'esta_ucin_3',\n",
        "    'evolucion_alta_4', 'evolucion_defuncion_4', 'evolucion_desfavorable_4', 'evolucion_estacionario_4', 'evolucion_favorable_4', 'evolucion_referido_4',\n",
        "    'con_oxigeno_4', 'con_ventilacion_4', 'esta_uci_4', 'esta_ucin_4'\n",
        "]]"
      ],
      "metadata": {
        "id": "hlbj3NV0gqlx"
      },
      "execution_count": 21,
      "outputs": []
    },
    {
      "cell_type": "code",
      "source": [
        "import matplotlib.pyplot as plt\n",
        "\n",
        "# Método del codo para encontrar el número de clusters\n",
        "sse = []\n",
        "K = range(1, 11)\n",
        "for k in K:\n",
        "    km = KMeans(n_clusters=k, random_state=42)\n",
        "    km = km.fit(features)\n",
        "    sse.append(km.inertia_)\n",
        "\n",
        "# Graficar el método del codo\n",
        "plt.figure(figsize=(8, 6))\n",
        "plt.plot(K, sse, marker='o')\n",
        "plt.xlabel('Número de Clusters')\n",
        "plt.ylabel('SSE')\n",
        "plt.title('Método del Codo')\n",
        "plt.grid(True)\n",
        "plt.xticks(K)\n",
        "plt.show\n",
        "\n",
        "# Imprimir valores\n",
        "for k, score in zip(K, sse):\n",
        "    print(f'Número de clusters: {k}, SSE: {score}')"
      ],
      "metadata": {
        "colab": {
          "base_uri": "https://localhost:8080/",
          "height": 1000
        },
        "id": "dLkj84ylg74F",
        "outputId": "22d552aa-f995-498b-afc6-baf9d49576e4"
      },
      "execution_count": 22,
      "outputs": [
        {
          "output_type": "stream",
          "name": "stderr",
          "text": [
            "/usr/local/lib/python3.10/dist-packages/sklearn/cluster/_kmeans.py:870: FutureWarning: The default value of `n_init` will change from 10 to 'auto' in 1.4. Set the value of `n_init` explicitly to suppress the warning\n",
            "  warnings.warn(\n",
            "/usr/local/lib/python3.10/dist-packages/sklearn/cluster/_kmeans.py:870: FutureWarning: The default value of `n_init` will change from 10 to 'auto' in 1.4. Set the value of `n_init` explicitly to suppress the warning\n",
            "  warnings.warn(\n",
            "/usr/local/lib/python3.10/dist-packages/sklearn/cluster/_kmeans.py:870: FutureWarning: The default value of `n_init` will change from 10 to 'auto' in 1.4. Set the value of `n_init` explicitly to suppress the warning\n",
            "  warnings.warn(\n",
            "/usr/local/lib/python3.10/dist-packages/sklearn/cluster/_kmeans.py:870: FutureWarning: The default value of `n_init` will change from 10 to 'auto' in 1.4. Set the value of `n_init` explicitly to suppress the warning\n",
            "  warnings.warn(\n",
            "/usr/local/lib/python3.10/dist-packages/sklearn/cluster/_kmeans.py:870: FutureWarning: The default value of `n_init` will change from 10 to 'auto' in 1.4. Set the value of `n_init` explicitly to suppress the warning\n",
            "  warnings.warn(\n",
            "/usr/local/lib/python3.10/dist-packages/sklearn/cluster/_kmeans.py:870: FutureWarning: The default value of `n_init` will change from 10 to 'auto' in 1.4. Set the value of `n_init` explicitly to suppress the warning\n",
            "  warnings.warn(\n",
            "/usr/local/lib/python3.10/dist-packages/sklearn/cluster/_kmeans.py:870: FutureWarning: The default value of `n_init` will change from 10 to 'auto' in 1.4. Set the value of `n_init` explicitly to suppress the warning\n",
            "  warnings.warn(\n",
            "/usr/local/lib/python3.10/dist-packages/sklearn/cluster/_kmeans.py:870: FutureWarning: The default value of `n_init` will change from 10 to 'auto' in 1.4. Set the value of `n_init` explicitly to suppress the warning\n",
            "  warnings.warn(\n",
            "/usr/local/lib/python3.10/dist-packages/sklearn/cluster/_kmeans.py:870: FutureWarning: The default value of `n_init` will change from 10 to 'auto' in 1.4. Set the value of `n_init` explicitly to suppress the warning\n",
            "  warnings.warn(\n",
            "/usr/local/lib/python3.10/dist-packages/sklearn/cluster/_kmeans.py:870: FutureWarning: The default value of `n_init` will change from 10 to 'auto' in 1.4. Set the value of `n_init` explicitly to suppress the warning\n",
            "  warnings.warn(\n"
          ]
        },
        {
          "output_type": "stream",
          "name": "stdout",
          "text": [
            "Número de clusters: 1, SSE: 45997.042694867385\n",
            "Número de clusters: 2, SSE: 31027.510377679784\n",
            "Número de clusters: 3, SSE: 22202.901743979703\n",
            "Número de clusters: 4, SSE: 17884.237519137285\n",
            "Número de clusters: 5, SSE: 16495.76068700442\n",
            "Número de clusters: 6, SSE: 14972.932152520982\n",
            "Número de clusters: 7, SSE: 13693.945591428563\n",
            "Número de clusters: 8, SSE: 12898.31686980135\n",
            "Número de clusters: 9, SSE: 12113.58396286265\n",
            "Número de clusters: 10, SSE: 11510.148198689958\n"
          ]
        },
        {
          "output_type": "display_data",
          "data": {
            "text/plain": [
              "<Figure size 800x600 with 1 Axes>"
            ],
            "image/png": "[encoded data removed]"
          },
          "metadata": {}
        }
      ]
    },
    {
      "cell_type": "code",
      "source": [
        "!git config --global user.name \"Mayerly Damián\"\n",
        "!git config --global user.email \"mayerly.damian@usil.pe\""
      ],
      "metadata": {
        "id": "ky5Gv6nCvQBi"
      },
      "execution_count": 23,
      "outputs": []
    }
  ]
}